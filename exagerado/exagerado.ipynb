{
 "cells": [
  {
   "cell_type": "code",
   "execution_count": 31,
   "metadata": {},
   "outputs": [
    {
     "name": "stdout",
     "output_type": "stream",
     "text": [
      "Vezes em que a letra A apareceu na música: 110\n"
     ]
    }
   ],
   "source": [
    "nome = \"exagerado_letra.txt\"\n",
    "letra = input(\"Escolha uma letra para buscar no texto: \")\n",
    "\n",
    "arquivo = open(nome, \"r\", encoding=\"utf-8\")\n",
    "\n",
    "conteudo = arquivo.read()\n",
    "\n",
    "conteudo = conteudo.lower()\n",
    "\n",
    "cont = conteudo.count(letra.lower())\n",
    "\n",
    "print(f\"Vezes em que a letra {letra.upper()} apareceu na música: {cont}\")\n",
    "\n",
    "arquivo.close()"
   ]
  },
  {
   "cell_type": "code",
   "execution_count": 27,
   "metadata": {},
   "outputs": [
    {
     "name": "stdout",
     "output_type": "stream",
     "text": [
      "Vezes em que a letra E apareceu na música: 64\n"
     ]
    }
   ],
   "source": [
    "nome = \"exagerado_letra.txt\"\n",
    "letra = input(\"Escolha uma letra para buscar no texto: \")\n",
    "\n",
    "arquivo = open(nome, \"r\", encoding=\"utf-8\")\n",
    "\n",
    "conteudo = arquivo.read()\n",
    "\n",
    "conteudo = conteudo.lower()\n",
    "\n",
    "cont = conteudo.count(letra.lower())\n",
    "\n",
    "print(f\"Vezes em que a letra {letra.upper()} apareceu na música: {cont}\")\n",
    "\n",
    "arquivo.close()"
   ]
  },
  {
   "cell_type": "code",
   "execution_count": 23,
   "metadata": {},
   "outputs": [
    {
     "name": "stdout",
     "output_type": "stream",
     "text": [
      "Vezes em que a letra É apareceu na música: 11\n"
     ]
    }
   ],
   "source": [
    "nome = \"exagerado_letra.txt\"\n",
    "letra = input(\"Escolha uma letra para buscar no texto: \")\n",
    "\n",
    "arquivo = open(nome, \"r\", encoding=\"utf-8\")\n",
    "\n",
    "conteudo = arquivo.read()\n",
    "\n",
    "conteudo = conteudo.lower()\n",
    "\n",
    "cont = conteudo.count(letra.lower())\n",
    "\n",
    "print(f\"Vezes em que a letra {letra.upper()} apareceu na música: {cont}\")\n",
    "\n",
    "arquivo.close()"
   ]
  },
  {
   "cell_type": "code",
   "execution_count": 25,
   "metadata": {},
   "outputs": [
    {
     "name": "stdout",
     "output_type": "stream",
     "text": [
      "Vezes em que a letra Ê apareceu na música: 4\n"
     ]
    }
   ],
   "source": [
    "nome = \"exagerado_letra.txt\"\n",
    "letra = input(\"Escolha uma letra para buscar no texto: \")\n",
    "\n",
    "arquivo = open(nome, \"r\", encoding=\"utf-8\")\n",
    "\n",
    "conteudo = arquivo.read()\n",
    "\n",
    "conteudo = conteudo.lower()\n",
    "\n",
    "cont = conteudo.count(letra.lower())\n",
    "\n",
    "print(f\"Vezes em que a letra {letra.upper()} apareceu na música: {cont}\")\n",
    "\n",
    "arquivo.close()"
   ]
  },
  {
   "cell_type": "code",
   "execution_count": 28,
   "metadata": {},
   "outputs": [
    {
     "name": "stdout",
     "output_type": "stream",
     "text": [
      "Vezes em que a letra I apareceu na música: 33\n"
     ]
    }
   ],
   "source": [
    "nome = \"exagerado_letra.txt\"\n",
    "letra = input(\"Escolha uma letra para buscar no texto: \")\n",
    "\n",
    "arquivo = open(nome, \"r\", encoding=\"utf-8\")\n",
    "\n",
    "conteudo = arquivo.read()\n",
    "\n",
    "conteudo = conteudo.lower()\n",
    "\n",
    "cont = conteudo.count(letra.lower())\n",
    "\n",
    "print(f\"Vezes em que a letra {letra.upper()} apareceu na música: {cont}\")\n",
    "\n",
    "arquivo.close()"
   ]
  },
  {
   "cell_type": "code",
   "execution_count": 29,
   "metadata": {},
   "outputs": [
    {
     "name": "stdout",
     "output_type": "stream",
     "text": [
      "Vezes em que a letra O apareceu na música: 92\n"
     ]
    }
   ],
   "source": [
    "nome = \"exagerado_letra.txt\"\n",
    "letra = input(\"Escolha uma letra para buscar no texto: \")\n",
    "\n",
    "arquivo = open(nome, \"r\", encoding=\"utf-8\")\n",
    "\n",
    "conteudo = arquivo.read()\n",
    "\n",
    "conteudo = conteudo.lower()\n",
    "\n",
    "cont = conteudo.count(letra.lower())\n",
    "\n",
    "print(f\"Vezes em que a letra {letra.upper()} apareceu na música: {cont}\")\n",
    "\n",
    "arquivo.close()"
   ]
  },
  {
   "cell_type": "code",
   "execution_count": 30,
   "metadata": {},
   "outputs": [
    {
     "name": "stdout",
     "output_type": "stream",
     "text": [
      "Vezes em que a letra U apareceu na música: 41\n"
     ]
    }
   ],
   "source": [
    "nome = \"exagerado_letra.txt\"\n",
    "letra = input(\"Escolha uma letra para buscar no texto: \")\n",
    "\n",
    "arquivo = open(nome, \"r\", encoding=\"utf-8\")\n",
    "\n",
    "conteudo = arquivo.read()\n",
    "\n",
    "conteudo = conteudo.lower()\n",
    "\n",
    "cont = conteudo.count(letra.lower())\n",
    "\n",
    "print(f\"Vezes em que a letra {letra.upper()} apareceu na música: {cont}\")\n",
    "\n",
    "arquivo.close()"
   ]
  },
  {
   "cell_type": "markdown",
   "metadata": {},
   "source": [
    "Ao analisar as vogais que existem na música, podemos tirar como conclusão que existem na mesma: \n",
    "\n",
    "Vezes em que a letra A apareceu: 110\n",
    "\n",
    "Vezes em que a letra E apareceu: 64\n",
    "\n",
    "Vezes em que a letra É apareceu: 11\n",
    "\n",
    "Vezes em que a letra Ê apareceu: 4\n",
    "\n",
    "Vezes em que a letra I apareceu: 33\n",
    "\n",
    "Vezes em que a letra O apareceu: 92\n",
    "\n",
    "Vezes em que a letra U apareceu: 41\n"
   ]
  }
 ],
 "metadata": {
  "kernelspec": {
   "display_name": "Python 3",
   "language": "python",
   "name": "python3"
  },
  "language_info": {
   "codemirror_mode": {
    "name": "ipython",
    "version": 3
   },
   "file_extension": ".py",
   "mimetype": "text/x-python",
   "name": "python",
   "nbconvert_exporter": "python",
   "pygments_lexer": "ipython3",
   "version": "3.12.4"
  }
 },
 "nbformat": 4,
 "nbformat_minor": 2
}
